{
  "nbformat": 4,
  "nbformat_minor": 0,
  "metadata": {
    "colab": {
      "provenance": [],
      "authorship_tag": "ABX9TyOoXWfVVAgi8RKCXRWqk/WK",
      "include_colab_link": true
    },
    "kernelspec": {
      "name": "python3",
      "display_name": "Python 3"
    },
    "language_info": {
      "name": "python"
    }
  },
  "cells": [
    {
      "cell_type": "markdown",
      "metadata": {
        "id": "view-in-github",
        "colab_type": "text"
      },
      "source": [
        "<a href=\"https://colab.research.google.com/github/Septianadaw/Septianaweek5/blob/main/Untitled3.ipynb\" target=\"_parent\"><img src=\"https://colab.research.google.com/assets/colab-badge.svg\" alt=\"Open In Colab\"/></a>"
      ]
    },
    {
      "cell_type": "code",
      "source": [
        "num = 5\n",
        "\n",
        "if num > 0:\n",
        "    print(\"The number is positive.\")\n",
        "else:\n",
        "    if num < 0:\n",
        "        print(\"The number is negative.\")\n",
        "    else:\n",
        "        print(\"The number is zero.\")"
      ],
      "metadata": {
        "colab": {
          "base_uri": "https://localhost:8080/"
        },
        "id": "PtC5K4uIkhlP",
        "outputId": "a816d73f-5c53-4cb8-cbe0-2c056d0acd50"
      },
      "execution_count": null,
      "outputs": [
        {
          "output_type": "stream",
          "name": "stdout",
          "text": [
            "The number is positive.\n"
          ]
        }
      ]
    },
    {
      "cell_type": "code",
      "source": [
        "# Example 2 : Age classifier\n",
        "age = 35\n",
        "\n",
        "if age >= 60:\n",
        "    print(\"You are a senior citizen.\")\n",
        "else:\n",
        "    if age >= 18:\n",
        "        print(\"You are an adult.\")\n",
        "    else:\n",
        "        print(\"You are a teenager.\")"
      ],
      "metadata": {
        "colab": {
          "base_uri": "https://localhost:8080/"
        },
        "id": "8SSy8KQBkqGm",
        "outputId": "f963a493-99d9-4883-dc17-eb521e5b4c9d"
      },
      "execution_count": null,
      "outputs": [
        {
          "output_type": "stream",
          "name": "stdout",
          "text": [
            "You are an adult.\n"
          ]
        }
      ]
    },
    {
      "cell_type": "code",
      "source": [
        "# Write your code below and press Shift+Enter to executes\n",
        "\n",
        "username = input(\"Enter your username: \")\n",
        "password = input(\"Enter your password: \")\n",
        "\n",
        "if username == \"septiana\":\n",
        "    if password == \"sptina01\":\n",
        "        print(\"Login successful! Welcome, septiana.\")\n",
        "    elif password == \"12345\":\n",
        "        print(\"Weak password. Please reset your password.\")\n",
        "    else:\n",
        "        print(\"Incorrect password. Please try again.\")\n",
        "else:\n",
        "    if username == \"guest\":\n",
        "        if password == \"guest\":\n",
        "            print(\"Login successful! Welcome, guest.\")\n",
        "        else:\n",
        "            print(\"Incorrect password. Please try again.\")\n",
        "    else:\n",
        "        print(\"Unknown user. Please try again.\")"
      ],
      "metadata": {
        "colab": {
          "base_uri": "https://localhost:8080/"
        },
        "id": "qpIybJonmG9Y",
        "outputId": "8545c535-7464-477e-90d5-26b3839dcdda"
      },
      "execution_count": null,
      "outputs": [
        {
          "output_type": "stream",
          "name": "stdout",
          "text": [
            "Enter your username: septiana\n",
            "Enter your password: sptina01\n",
            "Login successful! Welcome, septiana.\n"
          ]
        }
      ]
    },
    {
      "cell_type": "code",
      "source": [
        "# Weekly Exercise 1\n",
        "# Membuat kode program menunjukkan tahun kabisat atau bukan\n",
        "\n",
        "tahun = int(input(\"Masukkan tahun: \"))\n",
        "\n",
        "if (tahun % 4 == 0):\n",
        "    print(f\"{tahun} tahun kabisat. \")\n",
        "else:\n",
        "    print(f\"{tahun} bukan tahun kabisat. \")"
      ],
      "metadata": {
        "colab": {
          "base_uri": "https://localhost:8080/"
        },
        "id": "aiozuJUYtBZb",
        "outputId": "b18d1740-2a8d-4621-9c40-044075d62471"
      },
      "execution_count": null,
      "outputs": [
        {
          "output_type": "stream",
          "name": "stdout",
          "text": [
            "Masukkan tahun: 2008\n",
            "2008 tahun kabisat. \n"
          ]
        }
      ]
    },
    {
      "cell_type": "code",
      "source": [
        "# Weekly exercise 2\n",
        "# Membuat kode program untuk menunjukkan angka terbesar berdasarkan 3 angka yang diinput\n",
        "\n",
        "x = int(input(\"Masukkan angka1 : \"))\n",
        "y = int(input(\"Masukkan angka2 : \"))\n",
        "z = int(input(\"Masukkan angka3 : \"))\n",
        "\n",
        "if x > y and x > z:\n",
        "  print(\"angka terbesar: \", x)\n",
        "elif y > z and y > x:\n",
        "  print(\"angka terbesar: \", y)\n",
        "else:\n",
        "  print(\"angka terbesar: \", z)"
      ],
      "metadata": {
        "colab": {
          "base_uri": "https://localhost:8080/"
        },
        "id": "P4CA29XMryfh",
        "outputId": "f44cfe55-243b-463e-8832-b609b74264dc"
      },
      "execution_count": null,
      "outputs": [
        {
          "output_type": "stream",
          "name": "stdout",
          "text": [
            "Masukkan angka1 : 4\n",
            "Masukkan angka2 : 50\n",
            "Masukkan angka3 : 9\n",
            "angka terbesar:  50\n"
          ]
        }
      ]
    },
    {
      "cell_type": "code",
      "source": [
        "# Weekly exercise 3\n",
        "# Membuat kode program untuk menghitung jumlah yang harus dibayarkan\n",
        "\n",
        "jenis = input(\"jenis konsumen : \")\n",
        "belanja = float(input(\"Total belanja :  \"))\n",
        "\n",
        "if belanja > 100.000:\n",
        "  diskon = 3/100\n",
        "  if jenis == \"member\":\n",
        "    diskon += 2/100\n",
        "elif belanja > 200.000:\n",
        "  diskon = 4/100\n",
        "  if jenis == \"member\":\n",
        "    diskon += 2/100\n",
        "\n",
        "totalbelanja = belanja-belanja*diskon\n",
        "print(f\"Total yang harus dibayarkan : Rp{totalbelanja:}\")"
      ],
      "metadata": {
        "colab": {
          "base_uri": "https://localhost:8080/"
        },
        "id": "mjfntVFrzfuF",
        "outputId": "e007f0c6-27e4-4e92-c3fb-e72cd9f2380d"
      },
      "execution_count": null,
      "outputs": [
        {
          "output_type": "stream",
          "name": "stdout",
          "text": [
            "jenis konsumen : member\n",
            "Total belanja :  250000\n",
            "Total yang harus dibayarkan : Rp237500.0\n"
          ]
        }
      ]
    },
    {
      "cell_type": "code",
      "source": [
        "# Weekly exercise 4\n",
        "# Membuat kode program user baru pada sebuah sistem\n",
        "\n",
        "username = input(\"Masukkan username: \")\n",
        "email    = input(\"Masukkan email: \")\n",
        "password = input(\"Masukkan password: \")\n",
        "\n",
        "if len(username) == 0:\n",
        "  print(\"username tidak boleh kosong\")\n",
        "else:\n",
        "  if \"@\" not in email:\n",
        "      print(\"alamat email tidak valid\")\n",
        "  else:\n",
        "      if len(password) < 8:\n",
        "        print(\"password harus memiliki minimal 8 karakter\")\n",
        "      else:\n",
        "        print(\"username:\", username)\n",
        "        print(\"email:\", email)\n",
        "        print(\"password:\", password)\n",
        "        print(\"registrasi berhasil\")"
      ],
      "metadata": {
        "colab": {
          "base_uri": "https://localhost:8080/"
        },
        "id": "UbbTWylxrmgB",
        "outputId": "f7b95222-3368-4885-90f5-ae1d027d3086"
      },
      "execution_count": null,
      "outputs": [
        {
          "output_type": "stream",
          "name": "stdout",
          "text": [
            "Masukkan username: Septiana\n",
            "Masukkan email: septianaa4@gmail.com\n",
            "Masukkan password: Septianadaw4_\n",
            "username: Septiana\n",
            "email: septianaa4@gmail.com\n",
            "password: Septianadaw4_\n",
            "registrasi berhasil\n"
          ]
        }
      ]
    }
  ]
}